{
 "cells": [
  {
   "cell_type": "markdown",
   "metadata": {},
   "source": [
    "# NRGV Data Analyst Interview Project"
   ]
  },
  {
   "cell_type": "markdown",
   "metadata": {},
   "source": [
    "## Data Reconciliation"
   ]
  },
  {
   "cell_type": "markdown",
   "metadata": {},
   "source": [
    "### Future Work - Ideas"
   ]
  },
  {
   "cell_type": "markdown",
   "metadata": {},
   "source": [
    "1) Could test for count of underscores in file name to chack for additional encodings<br>\n",
    "2) Using LAT/LONG and Date, determine sunset/sunrise; progamaticaly remove records when the sun is not out (from sunset to sunrise).<br>\n",
    "2a) Eliminate these records during the injest stage -Document time-delta vs lines of code vs reduced records.<br>\n",
    "3) Automate the detection of new state in dictionary."
   ]
  },
  {
   "cell_type": "markdown",
   "metadata": {},
   "source": [
    "### Notebook Objectives:"
   ]
  },
  {
   "cell_type": "markdown",
   "metadata": {},
   "source": [
    "Data Reconciliation:\n",
    "<ul>\n",
    "    <li>Verify values</li>"
   ]
  },
  {
   "cell_type": "markdown",
   "metadata": {},
   "source": [
    "-----------------------------"
   ]
  },
  {
   "cell_type": "markdown",
   "metadata": {},
   "source": [
    "### Libraries"
   ]
  },
  {
   "cell_type": "code",
   "execution_count": 1,
   "metadata": {},
   "outputs": [],
   "source": [
    "import requests as req     # DOWNLOADING URL VIA URL\n",
    "import zipfile             # DEALING WITH ZIP COMPRESSED FILE\n",
    "from io import BytesIO     # READING FILE FROM BUFFER\n",
    "import os                  # DIRECTORY CREATION\n",
    "import pandas as pd        # PANDAS DATAFRAME\n",
    "import datetime            # DATE AND TIME\n",
    "from datetime import datetime\n",
    "import numpy as np"
   ]
  },
  {
   "cell_type": "markdown",
   "metadata": {},
   "source": [
    "### Variables"
   ]
  },
  {
   "cell_type": "code",
   "execution_count": 2,
   "metadata": {},
   "outputs": [],
   "source": [
    "# SWSD_SUMMARY_DATA DAYTIME \n",
    "sumry_daytime_path = 'C://Users//bruce//Documents//Data//SWSD_SUMMARY_DATA//ALL_STATES_SWSD_SUMMARY_DATA_DAYTIME.csv'\n",
    "\n",
    "# SWSD_SUMMARY_DATA DAYTIME_AGGREGATIONS\n",
    "sumry_daytime_agg_path = 'C://Users//bruce//Documents//Data//SWSD_SUMMARY_DATA//ALL_STATES_SWSD_SUMMARY_DATA_DAYTIME_AGGREGATIONS.csv'\n",
    "\n",
    "states_dict = {\n",
    "    \"Alabama\":\"al\",\n",
    "    \"Arizona\":\"az\",\n",
    "    \"California\":\"ca\",\n",
    "    \"Colorado\":\"co\",\n",
    "    \"Florida\":\"fl\",\n",
    "    \"Maine\":\"me\",\n",
    "    \"New Mexico\":\"nm\",\n",
    "    \"Texas\":\"tx\"    \n",
    "}"
   ]
  },
  {
   "cell_type": "code",
   "execution_count": 3,
   "metadata": {},
   "outputs": [],
   "source": [
    "# DEFINE COLUMN NAMES\n",
    "col_names = 'State','DataType','Latitude','Longitude','PVType','CapacityMW','Power(MW)_SUM','Power(MW)_MAX',\\\n",
    "'Power(MW)_MEAN','TimeIntervalMin'\n",
    "\n",
    "# READ DATA\n",
    "sumry_daytime = pd.read_csv(sumry_daytime_path, parse_dates=['LocalTime'])\n",
    "sumry_daytime_agg = pd.read_csv(sumry_daytime_agg_path, header=0,names=col_names,skiprows=1)"
   ]
  },
  {
   "cell_type": "markdown",
   "metadata": {},
   "source": [
    "-------------------------------------------------"
   ]
  },
  {
   "cell_type": "markdown",
   "metadata": {},
   "source": [
    "### ALL_STATES_SWSD_SUMMARY_DATA_DAYTIME"
   ]
  },
  {
   "cell_type": "code",
   "execution_count": 4,
   "metadata": {},
   "outputs": [
    {
     "data": {
      "text/html": [
       "<div>\n",
       "<style scoped>\n",
       "    .dataframe tbody tr th:only-of-type {\n",
       "        vertical-align: middle;\n",
       "    }\n",
       "\n",
       "    .dataframe tbody tr th {\n",
       "        vertical-align: top;\n",
       "    }\n",
       "\n",
       "    .dataframe thead th {\n",
       "        text-align: right;\n",
       "    }\n",
       "</style>\n",
       "<table border=\"1\" class=\"dataframe\">\n",
       "  <thead>\n",
       "    <tr style=\"text-align: right;\">\n",
       "      <th></th>\n",
       "      <th>LocalTime</th>\n",
       "      <th>Power(MW)</th>\n",
       "      <th>State</th>\n",
       "      <th>DataType</th>\n",
       "      <th>Latitude</th>\n",
       "      <th>Longitude</th>\n",
       "      <th>PVType</th>\n",
       "      <th>CapacityMW</th>\n",
       "      <th>TimeIntervalMin</th>\n",
       "    </tr>\n",
       "  </thead>\n",
       "  <tbody>\n",
       "    <tr>\n",
       "      <th>0</th>\n",
       "      <td>2006-01-01 04:35:00</td>\n",
       "      <td>0.0</td>\n",
       "      <td>AL</td>\n",
       "      <td>Actual</td>\n",
       "      <td>30.45</td>\n",
       "      <td>-88.25</td>\n",
       "      <td>UPV</td>\n",
       "      <td>70</td>\n",
       "      <td>5</td>\n",
       "    </tr>\n",
       "    <tr>\n",
       "      <th>1</th>\n",
       "      <td>2006-01-01 04:40:00</td>\n",
       "      <td>0.0</td>\n",
       "      <td>AL</td>\n",
       "      <td>Actual</td>\n",
       "      <td>30.45</td>\n",
       "      <td>-88.25</td>\n",
       "      <td>UPV</td>\n",
       "      <td>70</td>\n",
       "      <td>5</td>\n",
       "    </tr>\n",
       "    <tr>\n",
       "      <th>2</th>\n",
       "      <td>2006-01-01 04:45:00</td>\n",
       "      <td>0.0</td>\n",
       "      <td>AL</td>\n",
       "      <td>Actual</td>\n",
       "      <td>30.45</td>\n",
       "      <td>-88.25</td>\n",
       "      <td>UPV</td>\n",
       "      <td>70</td>\n",
       "      <td>5</td>\n",
       "    </tr>\n",
       "    <tr>\n",
       "      <th>3</th>\n",
       "      <td>2006-01-01 04:50:00</td>\n",
       "      <td>0.0</td>\n",
       "      <td>AL</td>\n",
       "      <td>Actual</td>\n",
       "      <td>30.45</td>\n",
       "      <td>-88.25</td>\n",
       "      <td>UPV</td>\n",
       "      <td>70</td>\n",
       "      <td>5</td>\n",
       "    </tr>\n",
       "    <tr>\n",
       "      <th>4</th>\n",
       "      <td>2006-01-01 04:55:00</td>\n",
       "      <td>0.0</td>\n",
       "      <td>AL</td>\n",
       "      <td>Actual</td>\n",
       "      <td>30.45</td>\n",
       "      <td>-88.25</td>\n",
       "      <td>UPV</td>\n",
       "      <td>70</td>\n",
       "      <td>5</td>\n",
       "    </tr>\n",
       "  </tbody>\n",
       "</table>\n",
       "</div>"
      ],
      "text/plain": [
       "            LocalTime  Power(MW) State DataType  Latitude  Longitude PVType  \\\n",
       "0 2006-01-01 04:35:00        0.0    AL   Actual     30.45     -88.25    UPV   \n",
       "1 2006-01-01 04:40:00        0.0    AL   Actual     30.45     -88.25    UPV   \n",
       "2 2006-01-01 04:45:00        0.0    AL   Actual     30.45     -88.25    UPV   \n",
       "3 2006-01-01 04:50:00        0.0    AL   Actual     30.45     -88.25    UPV   \n",
       "4 2006-01-01 04:55:00        0.0    AL   Actual     30.45     -88.25    UPV   \n",
       "\n",
       "   CapacityMW  TimeIntervalMin  \n",
       "0          70                5  \n",
       "1          70                5  \n",
       "2          70                5  \n",
       "3          70                5  \n",
       "4          70                5  "
      ]
     },
     "execution_count": 4,
     "metadata": {},
     "output_type": "execute_result"
    }
   ],
   "source": [
    "sumry_daytime.head()"
   ]
  },
  {
   "cell_type": "code",
   "execution_count": 5,
   "metadata": {},
   "outputs": [
    {
     "data": {
      "text/plain": [
       "LocalTime          datetime64[ns]\n",
       "Power(MW)                 float64\n",
       "State                      object\n",
       "DataType                   object\n",
       "Latitude                  float64\n",
       "Longitude                 float64\n",
       "PVType                     object\n",
       "CapacityMW                  int64\n",
       "TimeIntervalMin             int64\n",
       "dtype: object"
      ]
     },
     "execution_count": 5,
     "metadata": {},
     "output_type": "execute_result"
    }
   ],
   "source": [
    "sumry_daytime.dtypes"
   ]
  },
  {
   "cell_type": "code",
   "execution_count": 6,
   "metadata": {},
   "outputs": [
    {
     "name": "stdout",
     "output_type": "stream",
     "text": [
      "The Actual power produced in AL was: 106,926,981.70\n"
     ]
    }
   ],
   "source": [
    "# FILTERED FOR: STATE==AL\n",
    "\n",
    "x = sumry_daytime[(sumry_daytime['State']=='AL')]['Power(MW)'].sum()\n",
    "\n",
    "print(\"The Actual power produced in AL was: {:,.2f}\".format(x))"
   ]
  },
  {
   "cell_type": "code",
   "execution_count": 36,
   "metadata": {},
   "outputs": [
    {
     "name": "stdout",
     "output_type": "stream",
     "text": [
      "The Actual power produced in AL was: 91,487,339.80\n"
     ]
    }
   ],
   "source": [
    "# FILTERED FOR: STATE==AL, DataType=='Actual'\n",
    "\n",
    "x = sumry_daytime[(sumry_daytime['State']=='AL') & (sumry_daytime['DataType']=='Actual')]['Power(MW)'].sum()\n",
    "\n",
    "print(\"The Actual power produced in AL was: {:,.2f}\".format(x))"
   ]
  },
  {
   "cell_type": "code",
   "execution_count": 38,
   "metadata": {},
   "outputs": [
    {
     "name": "stdout",
     "output_type": "stream",
     "text": [
      "The Actual power produced in AL was: 30,602,182.80\n"
     ]
    }
   ],
   "source": [
    "# FILTERED FOR: STATE==AL, DataType=='Actual',  PVType=='UPV'\n",
    "\n",
    "x = sumry_daytime[(sumry_daytime['State']=='AL') & (sumry_daytime['DataType']=='Actual')\\\n",
    "                  & (sumry_daytime['PVType']=='UPV')]['Power(MW)'].sum()\n",
    "\n",
    "print(\"The Actual power produced in AL was: {:,.2f}\".format(x))"
   ]
  },
  {
   "cell_type": "code",
   "execution_count": 40,
   "metadata": {},
   "outputs": [
    {
     "name": "stdout",
     "output_type": "stream",
     "text": [
      "The Actual power produced in AL was: 20,289,112.10\n"
     ]
    }
   ],
   "source": [
    "# FILTERED FOR: STATE==AL, Latitude between 31.87 and 34.4, Longitude between -102.51 and -86.7\n",
    "# block[\"Age\"].between(12, 15, inclusive = True) \n",
    "\n",
    "x = sumry_daytime[(sumry_daytime['State']=='AL') & (sumry_daytime['Latitude'].between(31.87,34.4, inclusive = True))\\\n",
    "                 & (sumry_daytime['Longitude'].between(-102.51,-86.7, inclusive = True))]['Power(MW)'].sum()\n",
    "\n",
    "print(\"The Actual power produced in AL was: {:,.2f}\".format(x))"
   ]
  },
  {
   "cell_type": "code",
   "execution_count": 45,
   "metadata": {},
   "outputs": [
    {
     "name": "stdout",
     "output_type": "stream",
     "text": [
      "The Actual power produced in AL was: 732,960.30\n"
     ]
    }
   ],
   "source": [
    "# FILTERED FOR: STATE==AL, Latitude between 31.87 and 34.4, Longitude between -102.51 and -86.7\n",
    "# block[\"Age\"].between(12, 15, inclusive = True) \n",
    "\n",
    "x = sumry_daytime[(sumry_daytime['State']=='AL') & (sumry_daytime['Latitude'] == 33.75)\\\n",
    "                 & (sumry_daytime['Longitude']== -86.75)]['Power(MW)'].sum()\n",
    "\n",
    "print(\"The Actual power produced in AL was: {:,.2f}\".format(x))"
   ]
  },
  {
   "cell_type": "code",
   "execution_count": 13,
   "metadata": {},
   "outputs": [
    {
     "name": "stdout",
     "output_type": "stream",
     "text": [
      "The Max Power(MW) produced was: 225.00\n"
     ]
    },
    {
     "data": {
      "text/html": [
       "<div>\n",
       "<style scoped>\n",
       "    .dataframe tbody tr th:only-of-type {\n",
       "        vertical-align: middle;\n",
       "    }\n",
       "\n",
       "    .dataframe tbody tr th {\n",
       "        vertical-align: top;\n",
       "    }\n",
       "\n",
       "    .dataframe thead th {\n",
       "        text-align: right;\n",
       "    }\n",
       "</style>\n",
       "<table border=\"1\" class=\"dataframe\">\n",
       "  <thead>\n",
       "    <tr style=\"text-align: right;\">\n",
       "      <th></th>\n",
       "      <th>LocalTime</th>\n",
       "      <th>Power(MW)</th>\n",
       "      <th>State</th>\n",
       "      <th>DataType</th>\n",
       "      <th>Latitude</th>\n",
       "      <th>Longitude</th>\n",
       "      <th>PVType</th>\n",
       "      <th>CapacityMW</th>\n",
       "      <th>TimeIntervalMin</th>\n",
       "    </tr>\n",
       "  </thead>\n",
       "  <tbody>\n",
       "    <tr>\n",
       "      <th>64291057</th>\n",
       "      <td>2006-03-08 12:10:00</td>\n",
       "      <td>225.0</td>\n",
       "      <td>FL</td>\n",
       "      <td>Actual</td>\n",
       "      <td>25.25</td>\n",
       "      <td>-81.15</td>\n",
       "      <td>UPV</td>\n",
       "      <td>252</td>\n",
       "      <td>5</td>\n",
       "    </tr>\n",
       "  </tbody>\n",
       "</table>\n",
       "</div>"
      ],
      "text/plain": [
       "                   LocalTime  Power(MW) State DataType  Latitude  Longitude  \\\n",
       "64291057 2006-03-08 12:10:00      225.0    FL   Actual     25.25     -81.15   \n",
       "\n",
       "         PVType  CapacityMW  TimeIntervalMin  \n",
       "64291057    UPV         252                5  "
      ]
     },
     "execution_count": 13,
     "metadata": {},
     "output_type": "execute_result"
    }
   ],
   "source": [
    "# FILTERED FOR: DataType=='Actual'\n",
    "\n",
    "x = sumry_daytime[(sumry_daytime['DataType']=='Actual')]['Power(MW)'].max()\n",
    "\n",
    "print(\"The Max Power(MW) produced was: {:,.2f}\".format(x))\n",
    "#print(sumry_daytime[(sumry_daytime['DataType']=='Actual')] & (sumry_daytime['Power(MW)']==x))\n",
    "sumry_daytime[sumry_daytime['Power(MW)']==x]"
   ]
  },
  {
   "cell_type": "markdown",
   "metadata": {},
   "source": [
    "------------------------------------------------------------------------------------"
   ]
  },
  {
   "cell_type": "markdown",
   "metadata": {},
   "source": [
    "### ALL_STATES_SWSD_SUMMARY_DATA_DAYTIME_AGGREGATIONS "
   ]
  },
  {
   "cell_type": "code",
   "execution_count": 41,
   "metadata": {},
   "outputs": [
    {
     "data": {
      "text/html": [
       "<div>\n",
       "<style scoped>\n",
       "    .dataframe tbody tr th:only-of-type {\n",
       "        vertical-align: middle;\n",
       "    }\n",
       "\n",
       "    .dataframe tbody tr th {\n",
       "        vertical-align: top;\n",
       "    }\n",
       "\n",
       "    .dataframe thead th {\n",
       "        text-align: right;\n",
       "    }\n",
       "</style>\n",
       "<table border=\"1\" class=\"dataframe\">\n",
       "  <thead>\n",
       "    <tr style=\"text-align: right;\">\n",
       "      <th></th>\n",
       "      <th>State</th>\n",
       "      <th>DataType</th>\n",
       "      <th>Latitude</th>\n",
       "      <th>Longitude</th>\n",
       "      <th>PVType</th>\n",
       "      <th>CapacityMW</th>\n",
       "      <th>Power(MW)_SUM</th>\n",
       "      <th>Power(MW)_MAX</th>\n",
       "      <th>Power(MW)_MEAN</th>\n",
       "      <th>TimeIntervalMin</th>\n",
       "    </tr>\n",
       "  </thead>\n",
       "  <tbody>\n",
       "    <tr>\n",
       "      <th>0</th>\n",
       "      <td>AL</td>\n",
       "      <td>Actual</td>\n",
       "      <td>30.45</td>\n",
       "      <td>-88.25</td>\n",
       "      <td>UPV</td>\n",
       "      <td>70</td>\n",
       "      <td>1200879.0</td>\n",
       "      <td>61.0</td>\n",
       "      <td>17.688599</td>\n",
       "      <td>339450</td>\n",
       "    </tr>\n",
       "    <tr>\n",
       "      <th>1</th>\n",
       "      <td>AL</td>\n",
       "      <td>Actual</td>\n",
       "      <td>30.55</td>\n",
       "      <td>-88.25</td>\n",
       "      <td>DPV</td>\n",
       "      <td>38</td>\n",
       "      <td>630932.4</td>\n",
       "      <td>32.2</td>\n",
       "      <td>9.293451</td>\n",
       "      <td>339450</td>\n",
       "    </tr>\n",
       "    <tr>\n",
       "      <th>2</th>\n",
       "      <td>AL</td>\n",
       "      <td>Actual</td>\n",
       "      <td>30.55</td>\n",
       "      <td>-88.15</td>\n",
       "      <td>DPV</td>\n",
       "      <td>38</td>\n",
       "      <td>636177.5</td>\n",
       "      <td>31.9</td>\n",
       "      <td>9.370710</td>\n",
       "      <td>339450</td>\n",
       "    </tr>\n",
       "    <tr>\n",
       "      <th>3</th>\n",
       "      <td>AL</td>\n",
       "      <td>Actual</td>\n",
       "      <td>30.55</td>\n",
       "      <td>-87.75</td>\n",
       "      <td>DPV</td>\n",
       "      <td>36</td>\n",
       "      <td>597170.9</td>\n",
       "      <td>31.5</td>\n",
       "      <td>8.796154</td>\n",
       "      <td>339450</td>\n",
       "    </tr>\n",
       "    <tr>\n",
       "      <th>4</th>\n",
       "      <td>AL</td>\n",
       "      <td>Actual</td>\n",
       "      <td>30.55</td>\n",
       "      <td>-87.55</td>\n",
       "      <td>UPV</td>\n",
       "      <td>80</td>\n",
       "      <td>1363291.2</td>\n",
       "      <td>74.6</td>\n",
       "      <td>20.080884</td>\n",
       "      <td>339450</td>\n",
       "    </tr>\n",
       "  </tbody>\n",
       "</table>\n",
       "</div>"
      ],
      "text/plain": [
       "  State DataType  Latitude  Longitude PVType  CapacityMW  Power(MW)_SUM  \\\n",
       "0    AL   Actual     30.45     -88.25    UPV          70      1200879.0   \n",
       "1    AL   Actual     30.55     -88.25    DPV          38       630932.4   \n",
       "2    AL   Actual     30.55     -88.15    DPV          38       636177.5   \n",
       "3    AL   Actual     30.55     -87.75    DPV          36       597170.9   \n",
       "4    AL   Actual     30.55     -87.55    UPV          80      1363291.2   \n",
       "\n",
       "   Power(MW)_MAX  Power(MW)_MEAN  TimeIntervalMin  \n",
       "0           61.0       17.688599           339450  \n",
       "1           32.2        9.293451           339450  \n",
       "2           31.9        9.370710           339450  \n",
       "3           31.5        8.796154           339450  \n",
       "4           74.6       20.080884           339450  "
      ]
     },
     "execution_count": 41,
     "metadata": {},
     "output_type": "execute_result"
    }
   ],
   "source": [
    "sumry_daytime_agg.head()"
   ]
  },
  {
   "cell_type": "code",
   "execution_count": 43,
   "metadata": {},
   "outputs": [
    {
     "name": "stdout",
     "output_type": "stream",
     "text": [
      "The Actual power produced in AL was: 20,289,112.10\n"
     ]
    }
   ],
   "source": [
    "# FILTERED FOR: STATE==AL, Latitude between 31.87 and 34.4, Longitude between -102.51 and -86.7\n",
    "# block[\"Age\"].between(12, 15, inclusive = True) \n",
    "\n",
    "x = sumry_daytime_agg[(sumry_daytime_agg['State']=='AL') & \\\n",
    "                      (sumry_daytime_agg['Latitude'].between(31.87,34.4, inclusive = True))\\\n",
    "                      & (sumry_daytime_agg['Longitude'].between(-102.51,-86.7, inclusive = True))\\\n",
    "                      & ()]['Power(MW)_SUM'].sum()\n",
    "\n",
    "print(\"The Actual power produced in AL was: {:,.2f}\".format(x))"
   ]
  },
  {
   "cell_type": "code",
   "execution_count": null,
   "metadata": {},
   "outputs": [],
   "source": []
  },
  {
   "cell_type": "code",
   "execution_count": null,
   "metadata": {},
   "outputs": [],
   "source": []
  },
  {
   "cell_type": "code",
   "execution_count": null,
   "metadata": {},
   "outputs": [],
   "source": []
  }
 ],
 "metadata": {
  "kernelspec": {
   "display_name": "Python 3",
   "language": "python",
   "name": "python3"
  },
  "language_info": {
   "codemirror_mode": {
    "name": "ipython",
    "version": 3
   },
   "file_extension": ".py",
   "mimetype": "text/x-python",
   "name": "python",
   "nbconvert_exporter": "python",
   "pygments_lexer": "ipython3",
   "version": "3.7.6"
  }
 },
 "nbformat": 4,
 "nbformat_minor": 5
}
