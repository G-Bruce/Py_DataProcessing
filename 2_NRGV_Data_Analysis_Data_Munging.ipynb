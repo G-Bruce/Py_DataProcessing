{
 "cells": [
  {
   "cell_type": "markdown",
   "metadata": {},
   "source": [
    "# NRGV Data Analyst Interview Project"
   ]
  },
  {
   "cell_type": "markdown",
   "metadata": {},
   "source": [
    "## Data Munging"
   ]
  },
  {
   "cell_type": "markdown",
   "metadata": {},
   "source": [
    "### Future Work - Ideas"
   ]
  },
  {
   "cell_type": "markdown",
   "metadata": {},
   "source": [
    "1) Could test for count of underscores in file name to chack for additional encodings<br>\n",
    "2) Using LAT/LONG and Date, determine sunset/sunrise; progamaticaly remove records when the sun is not out (from sunset to sunrise).<br>\n",
    "2a) Eliminate these records during the injest stage -Document time-delta vs lines of code vs reduced records.<br>\n",
    "3) Automate the detection of new state in dictionary."
   ]
  },
  {
   "cell_type": "markdown",
   "metadata": {},
   "source": [
    "### Notebook Objectives:"
   ]
  },
  {
   "cell_type": "markdown",
   "metadata": {},
   "source": [
    "<ul>\n",
    "    <li>Data Reduction: Remove non daylight data.</li>\n",
    "    <li>Write Record_Reduction_Statistics Log file.</li>\n",
    "</ul>"
   ]
  },
  {
   "cell_type": "markdown",
   "metadata": {},
   "source": [
    "-----------------------------"
   ]
  },
  {
   "cell_type": "markdown",
   "metadata": {},
   "source": [
    "### Libraries"
   ]
  },
  {
   "cell_type": "code",
   "execution_count": 1,
   "metadata": {},
   "outputs": [],
   "source": [
    "import requests as req     # DOWNLOADING URL VIA URL\n",
    "import zipfile             # DEALING WITH ZIP COMPRESSED FILE\n",
    "from io import BytesIO     # READING FILE FROM BUFFER\n",
    "import os                  # DIRECTORY CREATION\n",
    "import pandas as pd        # PANDAS DATAFRAME\n",
    "import datetime            # DATE AND TIME\n",
    "from datetime import datetime"
   ]
  },
  {
   "cell_type": "markdown",
   "metadata": {},
   "source": [
    "### Variables"
   ]
  },
  {
   "cell_type": "code",
   "execution_count": 2,
   "metadata": {},
   "outputs": [],
   "source": [
    "# PATH TO PLACE DATA\n",
    "data_path = 'C://Users//bruce//Documents//Data//NRGV'\n",
    "\n",
    "# SWSD_SUMMARY_DATA \n",
    "sumry_data_path = 'C://Users//bruce//Documents//Data//SWSD_SUMMARY_DATA'\n",
    "\n",
    "# SWSD RECORDS REDUCTION\n",
    "record_reduction_path_filename = sumry_data_path + \"//Record_Reduction_Statistics.txt\""
   ]
  },
  {
   "cell_type": "markdown",
   "metadata": {},
   "source": [
    "READ SWSD FILES"
   ]
  },
  {
   "cell_type": "code",
   "execution_count": 3,
   "metadata": {},
   "outputs": [],
   "source": [
    "# 1) DETERMINE WHAT FILES ARE IN THE SWSD_SUMMARY_DATA DIRECTORY\n",
    "# 2) ITERATE LIST AND READ FILES\n",
    "# 3) MUNGE DATA\n",
    "#    3a) Remove NIGHT records (sun will never shine at night) \n",
    "#        - have 0 Power(MW)\n",
    "#          - find last non-zero value, by day\n",
    "#          - find first non-zero value, by day\n",
    "#          - between the hours of \n"
   ]
  },
  {
   "cell_type": "code",
   "execution_count": 9,
   "metadata": {},
   "outputs": [
    {
     "name": "stdout",
     "output_type": "stream",
     "text": [
      "The process started at: 2022-10-16 15:39:01.142966 \n",
      " The process finished at: 2022-10-16 15:59:22.926897 \n",
      " The processing elapsed time was: 0:20:21.783931 \n",
      " The State being processed is AL \n",
      " The total number of records in the base data is: 16,801,680 \n",
      " The total number of records in the based data that belong to dark: 5,900,590 \n",
      " The total number of records in the base data that belong to daylight:10,901,090 \n",
      " The total number of records in the daylight and dark data is: 16,801,680 \n",
      " Do the the total number of records Match between base data and the sum of dark and daylight: 1 \n",
      " The total Power(MW) of daylight hours is: 106,926,981.70 \n",
      " The total Power(MW) of daylight hours is: 0.00\n",
      "The process started at: 2022-10-16 16:00:13.536175 \n",
      " The process finished at: 2022-10-16 16:25:05.083137 \n",
      " The processing elapsed time was: 0:24:51.546962 \n",
      " The State being processed is AZ \n",
      " The total number of records in the base data is: 20,971,440 \n",
      " The total number of records in the based data that belong to dark: 7,364,970 \n",
      " The total number of records in the base data that belong to daylight:13,606,470 \n",
      " The total number of records in the daylight and dark data is: 20,971,440 \n",
      " Do the the total number of records Match between base data and the sum of dark and daylight: 1 \n",
      " The total Power(MW) of daylight hours is: 417,522,182.77 \n",
      " The total Power(MW) of daylight hours is: 0.00\n",
      "The process started at: 2022-10-16 16:26:07.699977 \n",
      " The process finished at: 2022-10-16 17:24:12.805324 \n",
      " The processing elapsed time was: 0:58:05.105347 \n",
      " The State being processed is CA \n",
      " The total number of records in the base data is: 49,669,200 \n",
      " The total number of records in the based data that belong to dark: 17,443,350 \n",
      " The total number of records in the base data that belong to daylight:32,225,850 \n",
      " The total number of records in the daylight and dark data is: 49,669,200 \n",
      " Do the the total number of records Match between base data and the sum of dark and daylight: 1 \n",
      " The total Power(MW) of daylight hours is: 560,927,705.70 \n",
      " The total Power(MW) of daylight hours is: 598.90\n",
      "The process started at: 2022-10-16 17:26:39.327375 \n",
      " The process finished at: 2022-10-16 17:39:19.732615 \n",
      " The processing elapsed time was: 0:12:40.405240 \n",
      " The State being processed is CO \n",
      " The total number of records in the base data is: 10,792,320 \n",
      " The total number of records in the based data that belong to dark: 3,790,160 \n",
      " The total number of records in the base data that belong to daylight:7,002,160 \n",
      " The total number of records in the daylight and dark data is: 10,792,320 \n",
      " Do the the total number of records Match between base data and the sum of dark and daylight: 1 \n",
      " The total Power(MW) of daylight hours is: 150,476,980.89 \n",
      " The total Power(MW) of daylight hours is: 108.90\n",
      "The process started at: 2022-10-16 17:39:52.203678 \n",
      " The process finished at: 2022-10-16 17:41:23.521758 \n",
      " The processing elapsed time was: 0:01:31.318080 \n",
      " The State being processed is FL \n",
      " The total number of records in the base data is: 1,261,440 \n",
      " The total number of records in the based data that belong to dark: 446,760 \n",
      " The total number of records in the base data that belong to daylight:814,680 \n",
      " The total number of records in the daylight and dark data is: 1,261,440 \n",
      " Do the the total number of records Match between base data and the sum of dark and daylight: 1 \n",
      " The total Power(MW) of daylight hours is: 30,728,132.30 \n",
      " The total Power(MW) of daylight hours is: 0.00\n",
      "The process started at: 2022-10-16 17:41:27.347987 \n",
      " The process finished at: 2022-10-16 17:42:42.510737 \n",
      " The processing elapsed time was: 0:01:15.162750 \n",
      " The State being processed is ME \n",
      " The total number of records in the base data is: 1,051,200 \n",
      " The total number of records in the based data that belong to dark: 372,300 \n",
      " The total number of records in the base data that belong to daylight:678,900 \n",
      " The total number of records in the daylight and dark data is: 1,051,200 \n",
      " Do the the total number of records Match between base data and the sum of dark and daylight: 1 \n",
      " The total Power(MW) of daylight hours is: 7,176,661.41 \n",
      " The total Power(MW) of daylight hours is: 0.20\n",
      "The process started at: 2022-10-16 17:42:45.809228 \n",
      " The process finished at: 2022-10-16 17:44:15.463933 \n",
      " The processing elapsed time was: 0:01:29.654705 \n",
      " The State being processed is NM \n",
      " The total number of records in the base data is: 1,261,440 \n",
      " The total number of records in the based data that belong to dark: 446,760 \n",
      " The total number of records in the base data that belong to daylight:814,680 \n",
      " The total number of records in the daylight and dark data is: 1,261,440 \n",
      " Do the the total number of records Match between base data and the sum of dark and daylight: 1 \n",
      " The total Power(MW) of daylight hours is: 31,612,081.80 \n",
      " The total Power(MW) of daylight hours is: 0.00\n",
      "The process started at: 2022-10-16 17:44:19.131486 \n",
      " The process finished at: 2022-10-16 17:45:32.729000 \n",
      " The processing elapsed time was: 0:01:13.597514 \n",
      " The State being processed is TX \n",
      " The total number of records in the base data is: 1,051,200 \n",
      " The total number of records in the based data that belong to dark: 372,300 \n",
      " The total number of records in the base data that belong to daylight:678,900 \n",
      " The total number of records in the daylight and dark data is: 1,051,200 \n",
      " Do the the total number of records Match between base data and the sum of dark and daylight: 1 \n",
      " The total Power(MW) of daylight hours is: 14,381,124.10 \n",
      " The total Power(MW) of daylight hours is: 0.00\n"
     ]
    }
   ],
   "source": [
    "# INTERAGATE DIRECTORY FOR ALL FILES, ANY THAT ENDSWITH csv WILL BE PROCESSED FOR RECORD REDUCTION \n",
    "#  RECORD REDUCTION BASED UPON TIME OF DAY USING THE .between_time() FUNCTION\n",
    "\n",
    "for smry_data_file in os.listdir(sumry_data_path):\n",
    "    \n",
    "    # ACT ONLY ON FILES THAT ENDSWITH .csv\n",
    "    if smry_data_file.endswith(\".csv\"):\n",
    "              \n",
    "        # PROCESSING STATS\n",
    "        start_time = datetime.now()\n",
    "                \n",
    "        # READ THE CURRENT SUMMARY DATA FILE\n",
    "        swsd_smry_data = pd.read_csv(sumry_data_path + \"//\"+ smry_data_file, header=0, parse_dates=['LocalTime'],index_col=0)\n",
    "        # \n",
    "        \n",
    "        # DROP THE INDEX COLUMN\n",
    "        #swsd_smry_data = swsd_smry_data.drop('Unnamed: 0', axis=1)\n",
    "        \n",
    "        # FILTER DATA BETWEEN DAYTIME (not_dark: 04:30:00 - 20:00:00) and NIGHTTIME (dark: 20:00:00 - 04:00:00)\n",
    "        dark = swsd_smry_data.between_time('20:00:00', '04:30:00', include_start=False)\n",
    "        not_dark = swsd_smry_data.between_time('04:30:00','20:00:00', include_start=False)\n",
    "        \n",
    "        # PROCESSING STATS\n",
    "        stop_time = datetime.now()\n",
    "        processing_elapsed_time = stop_time - start_time\n",
    "        \n",
    "        # PROCESSING STATISTICS\n",
    "        state_name = smry_data_file[0:2].upper()\n",
    "        start_time_txt = \"The process started at: {}\".format(start_time)\n",
    "        stop_time_txt = \"The process finished at: {}\".format(stop_time)\n",
    "        processing_elapsed_time_txt = \"The processing elapsed time was: {}\".format(processing_elapsed_time)\n",
    "        state_name_txt = \"The State processed was {}\".format(state_name)\n",
    "        base_rec_cnt = \"The total number of records in the base data is: {:,}\".format(len(swsd_smry_data))\n",
    "        dark_rec_cnt = \"The total number of records in the based data that belong to dark: {:,}\".format(len(dark))\n",
    "        light_rec_cnt = \"The total number of records in the base data that belong to daylight:{:,}\".format(len(not_dark))\n",
    "        light_and_dark_rec_cnt = \"The total number of records in the daylight and dark data is: {:,}\".format(len(dark)+len(not_dark))\n",
    "        light_total_power = \"The total Power(MW) of daylight hours is: {:,.2f}\".format(not_dark['Power(MW)'].sum())\n",
    "        dark_total_power =  \"The total Power(MW) of non-daylight hours is: {:,.2f}\".format(dark['Power(MW)'].sum())\n",
    "        match_test = len(swsd_smry_data) == (len(dark) + len(not_dark))\n",
    "        match = \"Do the the total number of records Match between base data and the sum of dark and daylight: {:,}\".format(match_test)\n",
    "        new_line = '\\n'\n",
    "        \n",
    "        # PRINT PROCESSING STATISTICS TO SCREEN\n",
    "        print(start_time_txt,new_line,stop_time_txt,new_line,processing_elapsed_time_txt,new_line,state_name_txt,\\\n",
    "              new_line,base_rec_cnt,new_line,dark_rec_cnt,new_line,light_rec_cnt,\\\n",
    "              new_line,light_and_dark_rec_cnt,new_line,match,new_line,light_total_power,new_line,dark_total_power)\n",
    "        \n",
    "        # CAPTURE PROCESSING STATISTICS FOR TXT FILE\n",
    "        data_reduction = [str(start_time),str(stop_time),str(processing_elapsed_time),state_name_txt,base_rec_cnt,\\\n",
    "                          dark_rec_cnt,light_rec_cnt,light_and_dark_rec_cnt,match,light_total_power,dark_total_power]\n",
    "        \n",
    "        # WRITE NEW <STATE>_SWSD_SUMMARY_DATA_DAYTIME.csv\n",
    "        not_dark.to_csv(sumry_data_path + \"//\" + state_name + \"_SWSD_SUMMARY_DATA_DAYTIME.csv\", \\\n",
    "                        header=True, index=True)\n",
    "        \n",
    "        # MEMORALIZE PROCESSING STATISTICS\n",
    "        with open(record_reduction_path_filename, 'a') as new_file:\n",
    "            for line in data_reduction:\n",
    "                new_file.write(line)\n",
    "                new_file.write('\\n')"
   ]
  },
  {
   "cell_type": "code",
   "execution_count": null,
   "metadata": {},
   "outputs": [],
   "source": []
  },
  {
   "cell_type": "code",
   "execution_count": null,
   "metadata": {},
   "outputs": [],
   "source": [
    "       "
   ]
  }
 ],
 "metadata": {
  "kernelspec": {
   "display_name": "Python 3",
   "language": "python",
   "name": "python3"
  },
  "language_info": {
   "codemirror_mode": {
    "name": "ipython",
    "version": 3
   },
   "file_extension": ".py",
   "mimetype": "text/x-python",
   "name": "python",
   "nbconvert_exporter": "python",
   "pygments_lexer": "ipython3",
   "version": "3.7.6"
  }
 },
 "nbformat": 4,
 "nbformat_minor": 5
}
