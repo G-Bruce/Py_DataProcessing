{
 "cells": [
  {
   "cell_type": "markdown",
   "metadata": {},
   "source": [
    "# NRGV Data Analyst Interview Project"
   ]
  },
  {
   "cell_type": "markdown",
   "metadata": {},
   "source": [
    "## Data Munging_2"
   ]
  },
  {
   "cell_type": "markdown",
   "metadata": {},
   "source": [
    "### Future Work - Ideas"
   ]
  },
  {
   "cell_type": "markdown",
   "metadata": {},
   "source": [
    "1) Could test for count of underscores in file name to chack for additional encodings<br>\n",
    "2) Using LAT/LONG and Date, determine sunset/sunrise; progamaticaly remove records when the sun is not out (from sunset to sunrise).<br>\n",
    "2a) Eliminate these records during the injest stage -Document time-delta vs lines of code vs reduced records.<br>\n",
    "3) Automate the detection of new state in dictionary."
   ]
  },
  {
   "cell_type": "markdown",
   "metadata": {},
   "source": [
    "### Objectives:"
   ]
  },
  {
   "cell_type": "markdown",
   "metadata": {},
   "source": [
    "<ul>\n",
    "    <li>File consolidation / Create a single file with values from all states</li>\n",
    "    <li>Aggregrate Values </li>\n",
    "</ul>"
   ]
  },
  {
   "cell_type": "markdown",
   "metadata": {},
   "source": [
    "-----------------------------"
   ]
  },
  {
   "cell_type": "markdown",
   "metadata": {},
   "source": [
    "### Libraries"
   ]
  },
  {
   "cell_type": "code",
   "execution_count": 11,
   "metadata": {},
   "outputs": [],
   "source": [
    "import requests as req     # DOWNLOADING URL VIA URL\n",
    "import zipfile             # DEALING WITH ZIP COMPRESSED FILE\n",
    "from io import BytesIO     # READING FILE FROM BUFFER\n",
    "import os                  # DIRECTORY CREATION\n",
    "import pandas as pd        # PANDAS DATAFRAME\n",
    "import datetime            # DATE AND TIME\n",
    "from datetime import datetime\n",
    "import numpy as np"
   ]
  },
  {
   "cell_type": "markdown",
   "metadata": {},
   "source": [
    "### Variables"
   ]
  },
  {
   "cell_type": "code",
   "execution_count": 3,
   "metadata": {},
   "outputs": [],
   "source": [
    "# PATH TO PLACE DATA\n",
    "data_path = 'C://Users//bruce//Documents//Data//NRGV'\n",
    "\n",
    "# SWSD_SUMMARY_DATA \n",
    "sumry_data_path = 'C://Users//bruce//Documents//Data//SWSD_SUMMARY_DATA'\n",
    "\n",
    "# SWSD RECORDS REDUCTION\n",
    "record_reduction_path_filename = sumry_data_path + \"//Record_Reduction_Statistics.txt\""
   ]
  },
  {
   "cell_type": "markdown",
   "metadata": {},
   "source": [
    "### READ EACH STATE_SWSD_SUMMARY_DATA_DAYTIME FILE AND APPEND IT INTO SINGLE FILE"
   ]
  },
  {
   "cell_type": "code",
   "execution_count": 20,
   "metadata": {},
   "outputs": [],
   "source": [
    "file_cnt = 0\n",
    "\n",
    "for smry_data_file_daytime in os.listdir(sumry_data_path):\n",
    "       \n",
    "    mod_smry_data_file_nme = smry_data_file_daytime[3:28]  \n",
    "    \n",
    "    if mod_smry_data_file_nme == 'SWSD_SUMMARY_DATA_DAYTIME':\n",
    "        \n",
    "        file_cnt += 1\n",
    "        \n",
    "        if file_cnt == 1:\n",
    "            \n",
    "            temp_data = pd.read_csv(sumry_data_path + \"//\"+ smry_data_file_daytime, header=0) #, parse_dates=['LocalTime']) ,index_col=0)\n",
    "        \n",
    "            #msg = \"The length of the current temp_data field is: {:,}\".format(len(temp_data))\n",
    "            \n",
    "            #print(msg)\n",
    "            \n",
    "            swsd_daytime_append = temp_data\n",
    "        \n",
    "        elif file_cnt > 1:\n",
    "            \n",
    "            temp_data = pd.read_csv(sumry_data_path + \"//\"+ smry_data_file_daytime, skiprows=0) #, parse_dates=['LocalTime']) ,index_col=0)\n",
    "        \n",
    "            #msg = \"The length of the current temp_data field is: {:,}\".format(len(temp_data))\n",
    "            \n",
    "            #print(msg)                \n",
    "                \n",
    "            swsd_daytime_append = swsd_daytime_append.append(temp_data)\n",
    "        \n",
    "        #print('The file_cnt is: {}'.format(file_cnt))\n",
    "        #print(\"The length of the current swsd_daytime_append field is: {:,}\".format(len(swsd_daytime_append)))\n",
    "                  \n",
    "# Remove column name 'A'\n",
    "swsd_daytime_append = swsd_daytime_append.drop(['WeatherYear'], axis = 1)\n",
    "            \n",
    "# WRITE NEW ALL_STATES_SWSD_SUMMARY_DATA_DAYTIME.csv\n",
    "swsd_daytime_append.to_csv(sumry_data_path + \"//ALL_STATES_SWSD_SUMMARY_DATA_DAYTIME.csv\", header=True, index=False)        \n",
    "        "
   ]
  },
  {
   "cell_type": "code",
   "execution_count": 21,
   "metadata": {},
   "outputs": [
    {
     "name": "stdout",
     "output_type": "stream",
     "text": [
      "The swsd_daytime_append file contains 66,722,730 records.\n"
     ]
    }
   ],
   "source": [
    "print(\"The swsd_daytime_append file contains {:,} records.\".format(len(swsd_daytime_append)))"
   ]
  },
  {
   "cell_type": "code",
   "execution_count": 147,
   "metadata": {},
   "outputs": [],
   "source": [
    "# DEFINE COLUMNS THAT ARE BEING GROUPBY\n",
    "grb_1 = swsd_daytime_append.groupby(['State','DataType','Latitude','Longitude','PVType','CapacityMW'])\n",
    "\n",
    "# BASED UPON THE COLUMNS THAT ARE BEING GROUPBY, DEFINE THE INDIVIDUAL COLUMN AGGERGATIONS {'<column_1': [<agg_1>,<agg_2],\n",
    "#                                                                                           '<column_2': [<agg_1>,<agg_3]}\n",
    "# .reset_index() WILL REST INDEX AND COLUMN VAULES WILL REPEAT \n",
    "\n",
    "powerMW_agg = grb_1[['Power(MW)','TimeIntervalMin']].agg({'Power(MW)' : [np.sum, max, np.mean],\\\n",
    "                                                          'TimeIntervalMin': [np.sum]}).reset_index()"
   ]
  },
  {
   "cell_type": "code",
   "execution_count": 148,
   "metadata": {},
   "outputs": [],
   "source": [
    "# CALCULATE NEW COLUMN - ['MeanEffectivness']\n",
    "#powerMW_agg['MeanEffectivness'] = powerMW_agg['Power(MW)', 'mean'] / powerMW_agg['CapacityMW']\n",
    "\n",
    "# SORT THE ['MeanEffectivness'] COLUMN BASED UPON DESCENDING VALUES\n",
    "#powerMW_agg = powerMW_agg.sort_values(by=['MeanEffectivness'], ascending=False)"
   ]
  },
  {
   "cell_type": "code",
   "execution_count": 149,
   "metadata": {},
   "outputs": [],
   "source": [
    "# WRITE NEW ALL_STATES_SWSD_SUMMARY_DATA_DAYTIME.csv\n",
    "powerMW_agg.to_csv(sumry_data_path + \"//ALL_STATES_SWSD_SUMMARY_DATA_DAYTIME_AGGREGATIONS.csv\", header=True, index=False)"
   ]
  },
  {
   "cell_type": "code",
   "execution_count": 150,
   "metadata": {},
   "outputs": [
    {
     "data": {
      "text/html": [
       "<div>\n",
       "<style scoped>\n",
       "    .dataframe tbody tr th:only-of-type {\n",
       "        vertical-align: middle;\n",
       "    }\n",
       "\n",
       "    .dataframe tbody tr th {\n",
       "        vertical-align: top;\n",
       "    }\n",
       "\n",
       "    .dataframe thead tr th {\n",
       "        text-align: left;\n",
       "    }\n",
       "</style>\n",
       "<table border=\"1\" class=\"dataframe\">\n",
       "  <thead>\n",
       "    <tr>\n",
       "      <th></th>\n",
       "      <th>State</th>\n",
       "      <th>DataType</th>\n",
       "      <th>Latitude</th>\n",
       "      <th>Longitude</th>\n",
       "      <th>PVType</th>\n",
       "      <th>CapacityMW</th>\n",
       "      <th colspan=\"3\" halign=\"left\">Power(MW)</th>\n",
       "      <th>TimeIntervalMin</th>\n",
       "    </tr>\n",
       "    <tr>\n",
       "      <th></th>\n",
       "      <th></th>\n",
       "      <th></th>\n",
       "      <th></th>\n",
       "      <th></th>\n",
       "      <th></th>\n",
       "      <th></th>\n",
       "      <th>sum</th>\n",
       "      <th>max</th>\n",
       "      <th>mean</th>\n",
       "      <th>sum</th>\n",
       "    </tr>\n",
       "  </thead>\n",
       "  <tbody>\n",
       "    <tr>\n",
       "      <th>0</th>\n",
       "      <td>AL</td>\n",
       "      <td>Actual</td>\n",
       "      <td>30.45</td>\n",
       "      <td>-88.25</td>\n",
       "      <td>UPV</td>\n",
       "      <td>70</td>\n",
       "      <td>1200879.0</td>\n",
       "      <td>61.0</td>\n",
       "      <td>17.688599</td>\n",
       "      <td>339450</td>\n",
       "    </tr>\n",
       "    <tr>\n",
       "      <th>1</th>\n",
       "      <td>AL</td>\n",
       "      <td>Actual</td>\n",
       "      <td>30.55</td>\n",
       "      <td>-88.25</td>\n",
       "      <td>DPV</td>\n",
       "      <td>38</td>\n",
       "      <td>630932.4</td>\n",
       "      <td>32.2</td>\n",
       "      <td>9.293451</td>\n",
       "      <td>339450</td>\n",
       "    </tr>\n",
       "    <tr>\n",
       "      <th>2</th>\n",
       "      <td>AL</td>\n",
       "      <td>Actual</td>\n",
       "      <td>30.55</td>\n",
       "      <td>-88.15</td>\n",
       "      <td>DPV</td>\n",
       "      <td>38</td>\n",
       "      <td>636177.5</td>\n",
       "      <td>31.9</td>\n",
       "      <td>9.370710</td>\n",
       "      <td>339450</td>\n",
       "    </tr>\n",
       "    <tr>\n",
       "      <th>3</th>\n",
       "      <td>AL</td>\n",
       "      <td>Actual</td>\n",
       "      <td>30.55</td>\n",
       "      <td>-87.75</td>\n",
       "      <td>DPV</td>\n",
       "      <td>36</td>\n",
       "      <td>597170.9</td>\n",
       "      <td>31.5</td>\n",
       "      <td>8.796154</td>\n",
       "      <td>339450</td>\n",
       "    </tr>\n",
       "    <tr>\n",
       "      <th>4</th>\n",
       "      <td>AL</td>\n",
       "      <td>Actual</td>\n",
       "      <td>30.55</td>\n",
       "      <td>-87.55</td>\n",
       "      <td>UPV</td>\n",
       "      <td>80</td>\n",
       "      <td>1363291.2</td>\n",
       "      <td>74.6</td>\n",
       "      <td>20.080884</td>\n",
       "      <td>339450</td>\n",
       "    </tr>\n",
       "  </tbody>\n",
       "</table>\n",
       "</div>"
      ],
      "text/plain": [
       "  State DataType Latitude Longitude PVType CapacityMW  Power(MW)        \\\n",
       "                                                             sum   max   \n",
       "0    AL   Actual    30.45    -88.25    UPV         70  1200879.0  61.0   \n",
       "1    AL   Actual    30.55    -88.25    DPV         38   630932.4  32.2   \n",
       "2    AL   Actual    30.55    -88.15    DPV         38   636177.5  31.9   \n",
       "3    AL   Actual    30.55    -87.75    DPV         36   597170.9  31.5   \n",
       "4    AL   Actual    30.55    -87.55    UPV         80  1363291.2  74.6   \n",
       "\n",
       "             TimeIntervalMin  \n",
       "        mean             sum  \n",
       "0  17.688599          339450  \n",
       "1   9.293451          339450  \n",
       "2   9.370710          339450  \n",
       "3   8.796154          339450  \n",
       "4  20.080884          339450  "
      ]
     },
     "execution_count": 150,
     "metadata": {},
     "output_type": "execute_result"
    }
   ],
   "source": [
    "powerMW_agg.head()"
   ]
  },
  {
   "cell_type": "code",
   "execution_count": 146,
   "metadata": {},
   "outputs": [
    {
     "data": {
      "text/html": [
       "<div>\n",
       "<style scoped>\n",
       "    .dataframe tbody tr th:only-of-type {\n",
       "        vertical-align: middle;\n",
       "    }\n",
       "\n",
       "    .dataframe tbody tr th {\n",
       "        vertical-align: top;\n",
       "    }\n",
       "\n",
       "    .dataframe thead tr th {\n",
       "        text-align: left;\n",
       "    }\n",
       "</style>\n",
       "<table border=\"1\" class=\"dataframe\">\n",
       "  <thead>\n",
       "    <tr>\n",
       "      <th></th>\n",
       "      <th>State</th>\n",
       "      <th>DataType</th>\n",
       "      <th>Latitude</th>\n",
       "      <th>Longitude</th>\n",
       "      <th>PVType</th>\n",
       "      <th>CapacityMW</th>\n",
       "      <th colspan=\"3\" halign=\"left\">Power(MW)</th>\n",
       "      <th>TimeIntervalMin</th>\n",
       "      <th>MeanEffectivness</th>\n",
       "    </tr>\n",
       "    <tr>\n",
       "      <th></th>\n",
       "      <th></th>\n",
       "      <th></th>\n",
       "      <th></th>\n",
       "      <th></th>\n",
       "      <th></th>\n",
       "      <th></th>\n",
       "      <th>sum</th>\n",
       "      <th>max</th>\n",
       "      <th>mean</th>\n",
       "      <th>sum</th>\n",
       "      <th></th>\n",
       "    </tr>\n",
       "  </thead>\n",
       "  <tbody>\n",
       "    <tr>\n",
       "      <th>1335</th>\n",
       "      <td>CA</td>\n",
       "      <td>DA</td>\n",
       "      <td>32.65</td>\n",
       "      <td>-116.15</td>\n",
       "      <td>UPV</td>\n",
       "      <td>50</td>\n",
       "      <td>128360.4</td>\n",
       "      <td>45.0</td>\n",
       "      <td>21.979521</td>\n",
       "      <td>350400</td>\n",
       "      <td>0.43959</td>\n",
       "    </tr>\n",
       "  </tbody>\n",
       "</table>\n",
       "</div>"
      ],
      "text/plain": [
       "     State DataType Latitude Longitude PVType CapacityMW Power(MW)        \\\n",
       "                                                               sum   max   \n",
       "1335    CA       DA    32.65   -116.15    UPV         50  128360.4  45.0   \n",
       "\n",
       "                TimeIntervalMin MeanEffectivness  \n",
       "           mean             sum                   \n",
       "1335  21.979521          350400          0.43959  "
      ]
     },
     "execution_count": 146,
     "metadata": {},
     "output_type": "execute_result"
    }
   ],
   "source": [
    "powerMW_agg[powerMW_agg['MeanEffectivness']==powerMW_agg['MeanEffectivness'].max()]"
   ]
  },
  {
   "cell_type": "code",
   "execution_count": null,
   "metadata": {},
   "outputs": [],
   "source": []
  }
 ],
 "metadata": {
  "kernelspec": {
   "display_name": "Python 3",
   "language": "python",
   "name": "python3"
  },
  "language_info": {
   "codemirror_mode": {
    "name": "ipython",
    "version": 3
   },
   "file_extension": ".py",
   "mimetype": "text/x-python",
   "name": "python",
   "nbconvert_exporter": "python",
   "pygments_lexer": "ipython3",
   "version": "3.7.6"
  }
 },
 "nbformat": 4,
 "nbformat_minor": 5
}
